{
 "cells": [
  {
   "cell_type": "code",
   "execution_count": 1,
   "id": "c4c5c8f3",
   "metadata": {},
   "outputs": [
    {
     "name": "stderr",
     "output_type": "stream",
     "text": [
      "Processing languages: 100%|██████████| 30/30 [00:02<00:00, 12.48it/s]\n"
     ]
    }
   ],
   "source": [
    "import os\n",
    "from tqdm import tqdm\n",
    "\n",
    "data_dir = \"/home/abhisek/Project/Language_detector_200/mini-Ultimate_100_data_30lang\"\n",
    "train_file = \"/home/abhisek/Project/Language_detector_200/FastText_30/train.txt\"\n",
    "\n",
    "os.makedirs(os.path.dirname(train_file), exist_ok=True)\n",
    "\n",
    "with open(train_file, \"w\", encoding=\"utf-8\") as out_file:\n",
    "    for lang in tqdm(sorted(os.listdir(data_dir)), desc=\"Processing languages\"):\n",
    "        lang_dir = os.path.join(data_dir, lang)\n",
    "        if os.path.isdir(lang_dir):\n",
    "            for fname in os.listdir(lang_dir):\n",
    "                fpath = os.path.join(lang_dir, fname)\n",
    "                with open(fpath, \"r\", encoding=\"utf-8\") as f:\n",
    "                    text = f.read().strip().replace(\"\\n\", \" \")\n",
    "                    if text:\n",
    "                        out_file.write(f\"__label__{lang} {text}\\n\")\n"
   ]
  },
  {
   "cell_type": "code",
   "execution_count": 2,
   "id": "1af1d520",
   "metadata": {},
   "outputs": [
    {
     "name": "stderr",
     "output_type": "stream",
     "text": [
      "Read 15M words\n",
      "Number of words:  2884035\n",
      "Number of labels: 30\n",
      "Progress: 100.0% words/sec/thread:  350773 lr:  0.000000 avg.loss:  0.234705 ETA:   0h 0m 0s 218815 lr:  0.995544 avg.loss:  3.405111 ETA:   0h 4m 9s  0h 2m58s avg.loss:  2.282122 ETA:   0h 2m42s  7.2% words/sec/thread:  333072 lr:  0.927904 avg.loss:  1.836301 ETA:   0h 2m32s avg.loss:  1.381515 ETA:   0h 2m28s% words/sec/thread:  328949 lr:  0.886998 avg.loss:  1.294023 ETA:   0h 2m27s 0.885787 avg.loss:  1.284713 ETA:   0h 2m27sm10s% words/sec/thread:  347239 lr:  0.776112 avg.loss:  0.884336 ETA:   0h 2m 2s avg.loss:  0.792479 ETA:   0h 1m56s% words/sec/thread:  351734 lr:  0.737448 avg.loss:  0.768552 ETA:   0h 1m55s  0h 1m50s ETA:   0h 1m31s lr:  0.568625 avg.loss:  0.516963 ETA:   0h 1m28s ETA:   0h 1m25s 0.465717 ETA:   0h 1m20s avg.loss:  0.395722 ETA:   0h 1m 8sh 1m 2s 0.394752 avg.loss:  0.369983 ETA:   0h 1m 1s ETA:   0h 0m53s words/sec/thread:  353661 lr:  0.326346 avg.loss:  0.337477 ETA:   0h 0m50s 68.8% words/sec/thread:  354236 lr:  0.311614 avg.loss:  0.332014 ETA:   0h 0m48s% words/sec/thread:  354217 lr:  0.310318 avg.loss:  0.331880 ETA:   0h 0m48s 0.322540 ETA:   0h 0m44s words/sec/thread:  355520 lr:  0.256626 avg.loss:  0.308949 ETA:   0h 0m39s% words/sec/thread:  351756 lr:  0.173813 avg.loss:  0.277167 ETA:   0h 0m27s 0.113300 avg.loss:  0.259747 ETA:   0h 0m17sh 0m13s lr:  0.083443 avg.loss:  0.252440 ETA:   0h 0m13s 96.6% words/sec/thread:  351003 lr:  0.033680 avg.loss:  0.242300 ETA:   0h 0m 5s 97.1% words/sec/thread:  351031 lr:  0.029062 avg.loss:  0.241237 ETA:   0h 0m 4s 98.0% words/sec/thread:  351171 lr:  0.019612 avg.loss:  0.239236 ETA:   0h 0m 3s\n"
     ]
    }
   ],
   "source": [
    "import fasttext\n",
    "\n",
    "model_path = \"/home/abhisek/Project/Language_detector_200/FastText_30/lang_detect_model.bin\"\n",
    "\n",
    "model = fasttext.train_supervised(\n",
    "    input=train_file,\n",
    "    lr=1.0,\n",
    "    epoch=25,\n",
    "    wordNgrams=2,\n",
    "    verbose=2,\n",
    "    minCount=1,\n",
    "    loss='softmax'\n",
    ")\n",
    "\n",
    "model.save_model(model_path)\n"
   ]
  },
  {
   "cell_type": "code",
   "execution_count": 3,
   "id": "c11b1ae0",
   "metadata": {},
   "outputs": [
    {
     "name": "stderr",
     "output_type": "stream",
     "text": [
      "Predicting: 100%|██████████| 600/600 [00:02<00:00, 222.89it/s]"
     ]
    },
    {
     "name": "stdout",
     "output_type": "stream",
     "text": [
      "Accuracy: 0.9983333333333333\n",
      "F1 Score: 0.9983373373373373\n",
      "Precision: 0.998421052631579\n",
      "Recall: 0.9983333333333333\n"
     ]
    },
    {
     "name": "stderr",
     "output_type": "stream",
     "text": [
      "\n"
     ]
    }
   ],
   "source": [
    "from sklearn.metrics import accuracy_score, f1_score, precision_score, recall_score\n",
    "from sklearn.model_selection import train_test_split\n",
    "\n",
    "# Load dataset into memory\n",
    "texts, labels = [], []\n",
    "with open(train_file, \"r\", encoding=\"utf-8\") as f:\n",
    "    for line in f:\n",
    "        label, text = line.strip().split(\" \", 1)\n",
    "        labels.append(label.replace(\"__label__\", \"\"))\n",
    "        texts.append(text)\n",
    "\n",
    "# Split\n",
    "X_train, X_test, y_train, y_test = train_test_split(texts, labels, test_size=0.2, random_state=42)\n",
    "\n",
    "# Predict using FastText\n",
    "y_pred = []\n",
    "for line in tqdm(X_test, desc=\"Predicting\"):\n",
    "    pred_label = model.predict(line)[0][0].replace(\"__label__\", \"\")\n",
    "    y_pred.append(pred_label)\n",
    "\n",
    "# Metrics\n",
    "print(\"Accuracy:\", accuracy_score(y_test, y_pred))\n",
    "print(\"F1 Score:\", f1_score(y_test, y_pred, average='weighted'))\n",
    "print(\"Precision:\", precision_score(y_test, y_pred, average='weighted'))\n",
    "print(\"Recall:\", recall_score(y_test, y_pred, average='weighted'))\n"
   ]
  },
  {
   "cell_type": "code",
   "execution_count": 1,
   "id": "c524b11d",
   "metadata": {},
   "outputs": [],
   "source": [
    "import fasttext\n",
    "\n",
    "model_path = \"/home/abhisek/Project/Language_detector_200/FastText_30/lang_detect_model.bin\"\n",
    "model = fasttext.load_model(model_path)"
   ]
  },
  {
   "cell_type": "code",
   "execution_count": 6,
   "id": "49046681",
   "metadata": {},
   "outputs": [
    {
     "name": "stdout",
     "output_type": "stream",
     "text": [
      "Predicted Language: English\n",
      "Sentence: The weather is absolutely delightful today, with a gentle, refreshing breeze rustling through the trees and the sun shining brightly, making it perfect for an outdoor stroll.\n",
      "\n",
      "Predicted Language: Bengali\n",
      "Sentence: আজকের আবহাওয়া একেবারেই আনন্দদায়ক, গাছের পাতার মধ্যে দিয়ে একটি মৃদু, সতেজ বাতাস বইছে এবং সূর্য উজ্জ্বলভাবে আলোকিত হচ্ছে, যা বাইরের হাঁটার জন্য এটিকে নিখুঁত করে তুলেছে।\n",
      "\n",
      "Predicted Language: Spanish\n",
      "Sentence: El clima es absolutamente delicioso hoy, con una brisa suave y refrescante susurrando entre los árboles y el sol brillando intensamente, lo que lo hace perfecto para un paseo al aire libre.\n",
      "\n",
      "Predicted Language: German\n",
      "Sentence: Das Wetter ist heute absolut herrlich, mit einer sanften, erfrischenden Brise, die durch die Bäume rauscht, und der Sonne, die hell scheint, was es perfekt für einen Spaziergang im Freien macht.\n",
      "\n",
      "Predicted Language: French\n",
      "Sentence: Le temps est absolument magnifique aujourd'hui, avec une brise douce et rafraîchissante qui frôle les arbres et le soleil qui brille de mille feux, ce qui en fait une journée parfaite pour une promenade en plein air.\n",
      "\n",
      "Predicted Language: Portuguese\n",
      "Sentence: O tempo está absolutamente delicioso hoje, com uma brisa suave e refrescante sussurrando entre as árvores e o sol brilhando intensamente, tornando-o perfeito para um passeio ao ar livre.\n",
      "\n",
      "Predicted Language: Hindi\n",
      "Sentence: भारतीय वास्तुकला अपनी विविधता और ऐतिहासिक गहराई के लिए जानी जाती है।\n",
      "\n"
     ]
    }
   ],
   "source": [
    "test_lines = [\n",
    "    \"The weather is absolutely delightful today, with a gentle, refreshing breeze rustling through the trees and the sun shining brightly, making it perfect for an outdoor stroll.\",  # English\n",
    "    \"আজকের আবহাওয়া একেবারেই আনন্দদায়ক, গাছের পাতার মধ্যে দিয়ে একটি মৃদু, সতেজ বাতাস বইছে এবং সূর্য উজ্জ্বলভাবে আলোকিত হচ্ছে, যা বাইরের হাঁটার জন্য এটিকে নিখুঁত করে তুলেছে।\",  # Bengali\n",
    "    \"El clima es absolutamente delicioso hoy, con una brisa suave y refrescante susurrando entre los árboles y el sol brillando intensamente, lo que lo hace perfecto para un paseo al aire libre.\",  # Spanish\n",
    "    \"Das Wetter ist heute absolut herrlich, mit einer sanften, erfrischenden Brise, die durch die Bäume rauscht, und der Sonne, die hell scheint, was es perfekt für einen Spaziergang im Freien macht.\",  # German\n",
    "    \"Le temps est absolument magnifique aujourd'hui, avec une brise douce et rafraîchissante qui frôle les arbres et le soleil qui brille de mille feux, ce qui en fait une journée parfaite pour une promenade en plein air.\",  # French\n",
    "    \"O tempo está absolutamente delicioso hoje, com uma brisa suave e refrescante sussurrando entre as árvores e o sol brilhando intensamente, tornando-o perfeito para um passeio ao ar livre.\",  # Portuguese\n",
    "    \"भारतीय वास्तुकला अपनी विविधता और ऐतिहासिक गहराई के लिए जानी जाती है।\" # Hindi\n",
    "]\n",
    "\n",
    "for line in test_lines:\n",
    "    label = model.predict(line)[0][0].replace(\"__label__\", \"\")\n",
    "    print(f\"Predicted Language: {label}\\nSentence: {line}\\n\")\n"
   ]
  }
 ],
 "metadata": {
  "kernelspec": {
   "display_name": "base",
   "language": "python",
   "name": "python3"
  },
  "language_info": {
   "codemirror_mode": {
    "name": "ipython",
    "version": 3
   },
   "file_extension": ".py",
   "mimetype": "text/x-python",
   "name": "python",
   "nbconvert_exporter": "python",
   "pygments_lexer": "ipython3",
   "version": "3.12.2"
  }
 },
 "nbformat": 4,
 "nbformat_minor": 5
}
