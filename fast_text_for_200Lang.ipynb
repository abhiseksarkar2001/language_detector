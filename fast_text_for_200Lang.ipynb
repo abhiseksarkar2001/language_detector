{
 "cells": [
  {
   "cell_type": "code",
   "execution_count": 1,
   "id": "c4c5c8f3",
   "metadata": {},
   "outputs": [
    {
     "name": "stderr",
     "output_type": "stream",
     "text": [
      "Processing languages: 100%|██████████| 200/200 [00:05<00:00, 33.95it/s]\n"
     ]
    }
   ],
   "source": [
    "import os\n",
    "from tqdm import tqdm\n",
    "\n",
    "data_dir = \"/home/abhisek/Project/Language_detector_200/Ultimate_100_data_FastText\"\n",
    "train_file = \"/home/abhisek/Project/Language_detector_200/FastText_200/train.txt\"\n",
    "\n",
    "os.makedirs(os.path.dirname(train_file), exist_ok=True)\n",
    "\n",
    "with open(train_file, \"w\", encoding=\"utf-8\") as out_file:\n",
    "    for lang in tqdm(sorted(os.listdir(data_dir)), desc=\"Processing languages\"):\n",
    "        lang_dir = os.path.join(data_dir, lang)\n",
    "        if os.path.isdir(lang_dir):\n",
    "            for fname in os.listdir(lang_dir):\n",
    "                fpath = os.path.join(lang_dir, fname)\n",
    "                with open(fpath, \"r\", encoding=\"utf-8\") as f:\n",
    "                    text = f.read().strip().replace(\"\\n\", \" \")\n",
    "                    if text:\n",
    "                        out_file.write(f\"__label__{lang} {text}\\n\")\n"
   ]
  },
  {
   "cell_type": "code",
   "execution_count": 2,
   "id": "1af1d520",
   "metadata": {},
   "outputs": [
    {
     "name": "stderr",
     "output_type": "stream",
     "text": [
      "Read 83M words\n",
      "Number of words:  11609638\n",
      "Number of labels: 200\n",
      "Progress: 100.0% words/sec/thread:  191688 lr: -0.000008 avg.loss:  0.301105 ETA:   0h 0m 0s words/sec/thread:  170547 lr:  0.699267 avg.loss:  5.545167 ETA:   0h57m53sh52m33s avg.loss:  5.204518 ETA:   0h52m 3s 5.197838 ETA:   0h52m 6s  0.8% words/sec/thread:  188883 lr:  0.694174 avg.loss:  4.923356 ETA:   0h51m53s  1.5% words/sec/thread:  182466 lr:  0.689635 avg.loss:  4.985260 ETA:   0h53m21s  3.4% words/sec/thread:  190170 lr:  0.676237 avg.loss:  4.023279 ETA:   0h50m12s  3.5% words/sec/thread:  190028 lr:  0.675301 avg.loss:  3.958531 ETA:   0h50m10s 190635 lr:  0.672148 avg.loss:  3.659380 ETA:   0h49m46s% words/sec/thread:  190834 lr:  0.671224 avg.loss:  3.611973 ETA:   0h49m39s% words/sec/thread:  189694 lr:  0.670014 avg.loss:  3.524785 ETA:   0h49m52s words/sec/thread:  188270 lr:  0.666004 avg.loss:  3.377795 ETA:   0h49m56s% words/sec/thread:  189822 lr:  0.660234 avg.loss:  3.032679 ETA:   0h49m 6s% words/sec/thread:  189513 lr:  0.659213 avg.loss:  2.992781 ETA:   0h49m 6s 0.657986 avg.loss:  2.963398 ETA:   0h49m 7s  0h49m 7s lr:  0.656286 avg.loss:  2.940860 ETA:   0h49m13s words/sec/thread:  188559 lr:  0.655361 avg.loss:  2.919308 ETA:   0h49m 4s  6.8% words/sec/thread:  188616 lr:  0.652571 avg.loss:  2.818996 ETA:   0h48m50s  7.3% words/sec/thread:  189055 lr:  0.648847 avg.loss:  2.674899 ETA:   0h48m27s  8.4% words/sec/thread:  189455 lr:  0.641322 avg.loss:  2.480497 ETA:   0h47m47s% words/sec/thread:  189408 lr:  0.641225 avg.loss:  2.465609 ETA:   0h47m47s  8.6% words/sec/thread:  189426 lr:  0.639659 avg.loss:  2.401983 ETA:   0h47m40s  8.9% words/sec/thread:  187886 lr:  0.637830 avg.loss:  2.343320 ETA:   0h47m55s 185710 lr:  0.633986 avg.loss:  2.251683 ETA:   0h48m11s lr:  0.628601 avg.loss:  2.119481 ETA:   0h48m14sh48m13s words/sec/thread:  183617 lr:  0.624378 avg.loss:  1.999724 ETA:   0h48m 0s lr:  0.621296 avg.loss:  1.951889 ETA:   0h47m58s ETA:   0h47m53s 12.0% words/sec/thread:  183075 lr:  0.615744 avg.loss:  1.846991 ETA:   0h47m29s 12.1% words/sec/thread:  183128 lr:  0.615413 avg.loss:  1.844231 ETA:   0h47m26s words/sec/thread:  182681 lr:  0.610270 avg.loss:  1.794599 ETA:   0h47m 9sh47m 6s ETA:   0h47m 5sh46m19s 183023 lr:  0.597386 avg.loss:  1.641830 ETA:   0h46m 4s% words/sec/thread:  183046 lr:  0.597263 avg.loss:  1.641060 ETA:   0h46m 4s 15.0% words/sec/thread:  183360 lr:  0.595148 avg.loss:  1.615114 ETA:   0h45m49s 15.8% words/sec/thread:  183277 lr:  0.589103 avg.loss:  1.556486 ETA:   0h45m22sh45m17s% words/sec/thread:  183427 lr:  0.588162 avg.loss:  1.539033 ETA:   0h45m16sm15s 1.537428 ETA:   0h45m15s 16.5% words/sec/thread:  183850 lr:  0.584629 avg.loss:  1.500044 ETA:   0h44m53s 1.392326 ETA:   0h44m 1s% words/sec/thread:  184021 lr:  0.572241 avg.loss:  1.372113 ETA:   0h43m54s 18.3% words/sec/thread:  184021 lr:  0.571954 avg.loss:  1.369143 ETA:   0h43m52s 18.6% words/sec/thread:  183843 lr:  0.569575 avg.loss:  1.349017 ETA:   0h43m44s 0.565026 avg.loss:  1.314171 ETA:   0h43m18s  0h42m41s avg.loss:  1.259999 ETA:   0h42m39s 0.558320 avg.loss:  1.257982 ETA:   0h42m38s% words/sec/thread:  185116 lr:  0.554607 avg.loss:  1.226989 ETA:   0h42m17s 22.0% words/sec/thread:  185017 lr:  0.546155 avg.loss:  1.169229 ETA:   0h41m40s 185118 lr:  0.544415 avg.loss:  1.158298 ETA:   0h41m31s 22.4% words/sec/thread:  185186 lr:  0.543229 avg.loss:  1.148041 ETA:   0h41m24s 184978 lr:  0.538609 avg.loss:  1.113362 ETA:   0h41m 6s  0h40m49s 24.1% words/sec/thread:  185485 lr:  0.531620 avg.loss:  1.076957 ETA:   0h40m27s 1.009585 ETA:   0h39m35s 0.519831 avg.loss:  1.006579 ETA:   0h39m32s 26.0% words/sec/thread:  185701 lr:  0.517770 avg.loss:  0.993372 ETA:   0h39m21s 26.3% words/sec/thread:  185786 lr:  0.515951 avg.loss:  0.987042 ETA:   0h39m12s% words/sec/thread:  185715 lr:  0.512487 avg.loss:  0.979073 ETA:   0h38m57s 26.8% words/sec/thread:  185706 lr:  0.512407 avg.loss:  0.978975 ETA:   0h38m57s 26.8% words/sec/thread:  185692 lr:  0.512266 avg.loss:  0.978561 ETA:   0h38m56s 26.9% words/sec/thread:  185665 lr:  0.511764 avg.loss:  0.975768 ETA:   0h38m54s 26.9% words/sec/thread:  185646 lr:  0.511606 avg.loss:  0.974501 ETA:   0h38m54s 27.3% words/sec/thread:  185540 lr:  0.509187 avg.loss:  0.966357 ETA:   0h38m44s% words/sec/thread:  185536 lr:  0.509014 avg.loss:  0.965429 ETA:   0h38m44s words/sec/thread:  185691 lr:  0.506622 avg.loss:  0.953697 ETA:   0h38m31s% words/sec/thread:  185708 lr:  0.506286 avg.loss:  0.950713 ETA:   0h38m29s 29.8% words/sec/thread:  185692 lr:  0.491400 avg.loss:  0.897041 ETA:   0h37m21sh37m 5s% words/sec/thread:  185910 lr:  0.488274 avg.loss:  0.882684 ETA:   0h37m 4s% words/sec/thread:  186407 lr:  0.484362 avg.loss:  0.871555 ETA:   0h36m41s37s 0.480490 avg.loss:  0.856051 ETA:   0h36m20s  0h36m 5s ETA:   0h36m 2s 0.842035 ETA:   0h35m56s 32.2% words/sec/thread:  187320 lr:  0.474692 avg.loss:  0.835005 ETA:   0h35m46s% words/sec/thread:  187529 lr:  0.472803 avg.loss:  0.829148 ETA:   0h35m35s 32.8% words/sec/thread:  187609 lr:  0.470154 avg.loss:  0.820405 ETA:   0h35m22s 33.2% words/sec/thread:  187761 lr:  0.467396 avg.loss:  0.812181 ETA:   0h35m 8sm 7s 33.4% words/sec/thread:  187901 lr:  0.466437 avg.loss:  0.810011 ETA:   0h35m 2s% words/sec/thread:  187962 lr:  0.465934 avg.loss:  0.808963 ETA:   0h34m59s ETA:   0h34m59s 33.6% words/sec/thread:  188096 lr:  0.464890 avg.loss:  0.805916 ETA:   0h34m53sh34m46s 34.0% words/sec/thread:  188437 lr:  0.462138 avg.loss:  0.796939 ETA:   0h34m37s 34.7% words/sec/thread:  188614 lr:  0.457170 avg.loss:  0.781550 ETA:   0h34m13s ETA:   0h34m10s avg.loss:  0.776274 ETA:   0h34m 5sh33m49s 0.452848 avg.loss:  0.766988 ETA:   0h33m49s 35.4% words/sec/thread:  189086 lr:  0.452365 avg.loss:  0.765565 ETA:   0h33m46s words/sec/thread:  189204 lr:  0.451344 avg.loss:  0.761612 ETA:   0h33m40s 0.759893 ETA:   0h33m37s ETA:   0h33m26sh33m12s ETA:   0h32m43s 189912 lr:  0.439606 avg.loss:  0.725404 ETA:   0h32m40s33s avg.loss:  0.713101 ETA:   0h32m14s 190152 lr:  0.433806 avg.loss:  0.712494 ETA:   0h32m12s words/sec/thread:  190374 lr:  0.431636 avg.loss:  0.707535 ETA:   0h32m 0s 39.1% words/sec/thread:  190524 lr:  0.426436 avg.loss:  0.692644 ETA:   0h31m36s 39.2% words/sec/thread:  190507 lr:  0.425617 avg.loss:  0.691071 ETA:   0h31m32s% words/sec/thread:  190528 lr:  0.424952 avg.loss:  0.690026 ETA:   0h31m29s 190622 lr:  0.423724 avg.loss:  0.687946 ETA:   0h31m22s% words/sec/thread:  190891 lr:  0.420773 avg.loss:  0.680110 ETA:   0h31m 7s% words/sec/thread:  191111 lr:  0.417945 avg.loss:  0.673856 ETA:   0h30m52s 191316 lr:  0.415870 avg.loss:  0.670787 ETA:   0h30m41s words/sec/thread:  191440 lr:  0.414865 avg.loss:  0.670250 ETA:   0h30m35s% words/sec/thread:  191558 lr:  0.413472 avg.loss:  0.668583 ETA:   0h30m28s 0.411941 avg.loss:  0.665510 ETA:   0h30m20s% words/sec/thread:  191774 lr:  0.411291 avg.loss:  0.664735 ETA:   0h30m16s% words/sec/thread:  191794 lr:  0.408743 avg.loss:  0.660115 ETA:   0h30m 5sh30m 3s 191962 lr:  0.406010 avg.loss:  0.652710 ETA:   0h29m51s% words/sec/thread:  192028 lr:  0.405061 avg.loss:  0.652153 ETA:   0h29m46sh29m24s 0.396566 avg.loss:  0.636623 ETA:   0h29m 5s% words/sec/thread:  192488 lr:  0.395619 avg.loss:  0.635474 ETA:   0h29m 1s 43.8% words/sec/thread:  192631 lr:  0.393598 avg.loss:  0.631114 ETA:   0h28m50s  0h28m48s 0.390909 avg.loss:  0.626488 ETA:   0h28m37s 0.625060 ETA:   0h28m34s avg.loss:  0.621024 ETA:   0h28m23s avg.loss:  0.614055 ETA:   0h28m 5s 0.381676 avg.loss:  0.610284 ETA:   0h27m53s 0.379245 avg.loss:  0.605586 ETA:   0h27m41s words/sec/thread:  193384 lr:  0.378984 avg.loss:  0.605102 ETA:   0h27m40s 45.9% words/sec/thread:  193390 lr:  0.378860 avg.loss:  0.604945 ETA:   0h27m39s 46.4% words/sec/thread:  193630 lr:  0.375433 avg.loss:  0.598927 ETA:   0h27m22s 0.594531 ETA:   0h27m 7s 47.2% words/sec/thread:  193746 lr:  0.369928 avg.loss:  0.591123 ETA:   0h26m57s 47.3% words/sec/thread:  193709 lr:  0.368834 avg.loss:  0.588765 ETA:   0h26m52s words/sec/thread:  193936 lr:  0.363281 avg.loss:  0.581763 ETA:   0h26m26s lr:  0.362907 avg.loss:  0.580722 ETA:   0h26m24s 0.577395 ETA:   0h26m15s  0h26m 1s 49.3% words/sec/thread:  194188 lr:  0.355068 avg.loss:  0.567910 ETA:   0h25m48s25m45s 0.565567 ETA:   0h25m42s avg.loss:  0.560737 ETA:   0h25m28s% words/sec/thread:  194363 lr:  0.348155 avg.loss:  0.557405 ETA:   0h25m17s 50.4% words/sec/thread:  194356 lr:  0.347448 avg.loss:  0.556835 ETA:   0h25m14s% words/sec/thread:  194492 lr:  0.344730 avg.loss:  0.551726 ETA:   0h25m 1s% words/sec/thread:  194509 lr:  0.344164 avg.loss:  0.550727 ETA:   0h24m58s avg.loss:  0.548628 ETA:   0h24m55s 0.540753 ETA:   0h24m29s 52.6% words/sec/thread:  195031 lr:  0.331859 avg.loss:  0.533107 ETA:   0h24m 1s23ss23m23s 54.1% words/sec/thread:  195397 lr:  0.321270 avg.loss:  0.518136 ETA:   0h23m12s ETA:   0h23m11s ETA:   0h22m46s 0.503731 ETA:   0h22m12s  0h22m12sh21m35s 0.493161 ETA:   0h21m27s 0.295931 avg.loss:  0.491017 ETA:   0h21m17sh21m 9s words/sec/thread:  196411 lr:  0.290981 avg.loss:  0.485589 ETA:   0h20m54s ETA:   0h20m25sm25s 0.477808 ETA:   0h20m19s% words/sec/thread:  196552 lr:  0.282098 avg.loss:  0.477165 ETA:   0h20m15s avg.loss:  0.474720 ETA:   0h20m 6s words/sec/thread:  196672 lr:  0.279816 avg.loss:  0.474474 ETA:   0h20m 5s lr:  0.279371 avg.loss:  0.474153 ETA:   0h20m 3sm55sm49s  0h19m47s 60.7% words/sec/thread:  196683 lr:  0.274956 avg.loss:  0.469828 ETA:   0h19m44s words/sec/thread:  196942 lr:  0.268273 avg.loss:  0.463522 ETA:   0h19m13s% words/sec/thread:  196595 lr:  0.261093 avg.loss:  0.456589 ETA:   0h18m45s 62.9% words/sec/thread:  196525 lr:  0.260029 avg.loss:  0.455337 ETA:   0h18m40s% words/sec/thread:  196432 lr:  0.255365 avg.loss:  0.450251 ETA:   0h18m21s% words/sec/thread:  196349 lr:  0.252284 avg.loss:  0.446368 ETA:   0h18m 8s 64.1% words/sec/thread:  196294 lr:  0.251491 avg.loss:  0.445732 ETA:   0h18m 5s 0.249692 avg.loss:  0.444077 ETA:   0h17m58s 0.249055 avg.loss:  0.443449 ETA:   0h17m55s 64.7% words/sec/thread:  196031 lr:  0.247423 avg.loss:  0.441316 ETA:   0h17m49s17m33s avg.loss:  0.433337 ETA:   0h17m17s  0h17m11s ETA:   0h17m 7s 66.1% words/sec/thread:  195751 lr:  0.237083 avg.loss:  0.430728 ETA:   0h17m 5s ETA:   0h16m51s% words/sec/thread:  195639 lr:  0.229351 avg.loss:  0.424065 ETA:   0h16m33s% words/sec/thread:  195539 lr:  0.227810 avg.loss:  0.422981 ETA:   0h16m26s 195362 lr:  0.223381 avg.loss:  0.418744 ETA:   0h16m 8s avg.loss:  0.418325 ETA:   0h16m 5s 0.417291 ETA:   0h15m59s ETA:   0h15m31s 69.5% words/sec/thread:  195021 lr:  0.213438 avg.loss:  0.412818 ETA:   0h15m27s 0.412613 ETA:   0h15m26s 69.7% words/sec/thread:  195004 lr:  0.212223 avg.loss:  0.411224 ETA:   0h15m21s 69.7% words/sec/thread:  195001 lr:  0.212116 avg.loss:  0.411132 ETA:   0h15m21s% words/sec/thread:  194967 lr:  0.210875 avg.loss:  0.410236 ETA:   0h15m16s% words/sec/thread:  194967 lr:  0.210828 avg.loss:  0.410203 ETA:   0h15m16s ETA:   0h14m11s ETA:   0h14m 7sh13m49s lr:  0.188686 avg.loss:  0.395519 ETA:   0h13m41s% words/sec/thread:  194264 lr:  0.180854 avg.loss:  0.390017 ETA:   0h13m 8s 194243 lr:  0.179661 avg.loss:  0.389372 ETA:   0h13m 3s 74.8% words/sec/thread:  194133 lr:  0.176655 avg.loss:  0.387524 ETA:   0h12m50s% words/sec/thread:  194054 lr:  0.173251 avg.loss:  0.385499 ETA:   0h12m36s 75.5% words/sec/thread:  194057 lr:  0.171200 avg.loss:  0.384471 ETA:   0h12m27s 75.6% words/sec/thread:  194066 lr:  0.170667 avg.loss:  0.384037 ETA:   0h12m24s lr:  0.169942 avg.loss:  0.383543 ETA:   0h12m21s 76.3% words/sec/thread:  194007 lr:  0.166215 avg.loss:  0.381263 ETA:   0h12m 5s% words/sec/thread:  193987 lr:  0.165850 avg.loss:  0.381138 ETA:   0h12m 4s 0.380838 ETA:   0h12m 1s avg.loss:  0.380438 ETA:   0h11m59s% words/sec/thread:  193870 lr:  0.163045 avg.loss:  0.378827 ETA:   0h11m52s 77.0% words/sec/thread:  193892 lr:  0.160993 avg.loss:  0.377128 ETA:   0h11m43s lr:  0.159628 avg.loss:  0.376044 ETA:   0h11m37s 77.7% words/sec/thread:  193816 lr:  0.156163 avg.loss:  0.373794 ETA:   0h11m22s 0.373362 ETA:   0h11m18s 0.370239 ETA:   0h10m57s% words/sec/thread:  193686 lr:  0.148735 avg.loss:  0.368829 ETA:   0h10m50s 193482 lr:  0.141794 avg.loss:  0.364451 ETA:   0h10m20s words/sec/thread:  193474 lr:  0.139822 avg.loss:  0.363396 ETA:   0h10m12s10m 6s 81.0% words/sec/thread:  193393 lr:  0.132650 avg.loss:  0.358706 ETA:   0h 9m41s 81.1% words/sec/thread:  193383 lr:  0.132216 avg.loss:  0.358532 ETA:   0h 9m39s lr:  0.131429 avg.loss:  0.358207 ETA:   0h 9m35s 84.1% words/sec/thread:  193109 lr:  0.111487 avg.loss:  0.348382 ETA:   0h 8m 9s lr:  0.110162 avg.loss:  0.348149 ETA:   0h 8m 3s lr:  0.110023 avg.loss:  0.348023 ETA:   0h 8m 2s% words/sec/thread:  192963 lr:  0.106186 avg.loss:  0.345689 ETA:   0h 7m46s ETA:   0h 7m38s 192997 lr:  0.102552 avg.loss:  0.344139 ETA:   0h 7m30s 85.5% words/sec/thread:  193010 lr:  0.101684 avg.loss:  0.343946 ETA:   0h 7m26sh 7m16s lr:  0.097536 avg.loss:  0.342241 ETA:   0h 7m 8s avg.loss:  0.342177 ETA:   0h 7m 7s avg.loss:  0.336731 ETA:   0h 6m 5s 88.3% words/sec/thread:  192676 lr:  0.081892 avg.loss:  0.336315 ETA:   0h 6m 0s 0.080760 avg.loss:  0.335587 ETA:   0h 5m55s 192566 lr:  0.077482 avg.loss:  0.333723 ETA:   0h 5m40s% words/sec/thread:  192535 lr:  0.075718 avg.loss:  0.333005 ETA:   0h 5m33s lr:  0.075571 avg.loss:  0.332900 ETA:   0h 5m32s words/sec/thread:  192517 lr:  0.073073 avg.loss:  0.331769 ETA:   0h 5m21s 0.068573 avg.loss:  0.330032 ETA:   0h 5m 1s 91.6% words/sec/thread:  192353 lr:  0.058577 avg.loss:  0.325147 ETA:   0h 4m17s% words/sec/thread:  192199 lr:  0.053988 avg.loss:  0.323246 ETA:   0h 3m57s% words/sec/thread:  192192 lr:  0.052860 avg.loss:  0.322952 ETA:   0h 3m52s40s lr:  0.049951 avg.loss:  0.321365 ETA:   0h 3m40s 92.9% words/sec/thread:  192179 lr:  0.049838 avg.loss:  0.321316 ETA:   0h 3m39s 0.320742 ETA:   0h 3m36s 94.0% words/sec/thread:  192025 lr:  0.041664 avg.loss:  0.317230 ETA:   0h 3m 3s 95.0% words/sec/thread:  191977 lr:  0.034889 avg.loss:  0.314656 ETA:   0h 2m33s avg.loss:  0.314065 ETA:   0h 2m26s lr:  0.032820 avg.loss:  0.313824 ETA:   0h 2m24s 95.3% words/sec/thread:  191950 lr:  0.032608 avg.loss:  0.313640 ETA:   0h 2m23s 95.5% words/sec/thread:  191965 lr:  0.031342 avg.loss:  0.313261 ETA:   0h 2m18s ETA:   0h 2m13s 95.9% words/sec/thread:  191964 lr:  0.029039 avg.loss:  0.312418 ETA:   0h 2m 8s lr:  0.024735 avg.loss:  0.310236 ETA:   0h 1m49ss% words/sec/thread:  191813 lr:  0.021492 avg.loss:  0.309058 ETA:   0h 1m34s% words/sec/thread:  191704 lr:  0.013797 avg.loss:  0.306334 ETA:   0h 1m 0s 98.1% words/sec/thread:  191687 lr:  0.013126 avg.loss:  0.305948 ETA:   0h 0m58s words/sec/thread:  191690 lr:  0.012679 avg.loss:  0.305768 ETA:   0h 0m56s avg.loss:  0.305490 ETA:   0h 0m51s 98.6% words/sec/thread:  191700 lr:  0.009893 avg.loss:  0.305120 ETA:   0h 0m43s100.0% words/sec/thread:  191689 lr:  0.000000 avg.loss:  0.301104 ETA:   0h 0m 0s\n"
     ]
    }
   ],
   "source": [
    "import fasttext\n",
    "\n",
    "model_path = \"/home/abhisek/Project/Language_detector_200/FastText_200/lang_detect_model.bin\"\n",
    "\n",
    "model = fasttext.train_supervised(\n",
    "    input=train_file,\n",
    "    lr=0.7,\n",
    "    epoch=50,\n",
    "    wordNgrams=3,\n",
    "    verbose=2,\n",
    "    minCount=1,\n",
    "    loss='softmax'\n",
    ")\n",
    "\n",
    "model.save_model(model_path)\n"
   ]
  },
  {
   "cell_type": "code",
   "execution_count": 3,
   "id": "c11b1ae0",
   "metadata": {},
   "outputs": [
    {
     "name": "stderr",
     "output_type": "stream",
     "text": [
      "Predicting: 100%|██████████| 4000/4000 [00:19<00:00, 205.44it/s]\n"
     ]
    },
    {
     "name": "stdout",
     "output_type": "stream",
     "text": [
      "Accuracy: 0.9845\n",
      "F1 Score: 0.9834090066208308\n",
      "Precision: 0.9862282339417691\n",
      "Recall: 0.9845\n"
     ]
    }
   ],
   "source": [
    "from sklearn.metrics import accuracy_score, f1_score, precision_score, recall_score\n",
    "from sklearn.model_selection import train_test_split\n",
    "\n",
    "# Load dataset into memory\n",
    "texts, labels = [], []\n",
    "with open(train_file, \"r\", encoding=\"utf-8\") as f:\n",
    "    for line in f:\n",
    "        label, text = line.strip().split(\" \", 1)\n",
    "        labels.append(label.replace(\"__label__\", \"\"))\n",
    "        texts.append(text)\n",
    "\n",
    "# Split\n",
    "X_train, X_test, y_train, y_test = train_test_split(texts, labels, test_size=0.2, random_state=42)\n",
    "\n",
    "# Predict using FastText\n",
    "y_pred = []\n",
    "for line in tqdm(X_test, desc=\"Predicting\"):\n",
    "    pred_label = model.predict(line)[0][0].replace(\"__label__\", \"\")\n",
    "    y_pred.append(pred_label)\n",
    "\n",
    "# Metrics\n",
    "print(\"Accuracy:\", accuracy_score(y_test, y_pred))\n",
    "print(\"F1 Score:\", f1_score(y_test, y_pred, average='weighted'))\n",
    "print(\"Precision:\", precision_score(y_test, y_pred, average='weighted'))\n",
    "print(\"Recall:\", recall_score(y_test, y_pred, average='weighted'))\n"
   ]
  },
  {
   "cell_type": "code",
   "execution_count": null,
   "id": "c524b11d",
   "metadata": {},
   "outputs": [],
   "source": [
    "import fasttext\n",
    "\n",
    "model_path = \"/home/abhisek/Project/Language_detector_200/FastText_100/lang_detect_model.bin\"\n",
    "model = fasttext.load_model(model_path)"
   ]
  },
  {
   "cell_type": "markdown",
   "id": "154eca6f",
   "metadata": {},
   "source": [
    "### Testing"
   ]
  },
  {
   "cell_type": "code",
   "execution_count": 23,
   "id": "a6383fa7",
   "metadata": {},
   "outputs": [
    {
     "name": "stdout",
     "output_type": "stream",
     "text": [
      "Predicted Language: English\n",
      "Sentence: The weather is absolutely delightful today, with a gentle, refreshing breeze rustling through the trees and the sun shining brightly, making it perfect for an outdoor stroll. The birds are singing sweetly, and there's a pleasant warmth in the air, inviting everyone to enjoy the beauty of nature. It's truly a splendid day to be outside.\n",
      "\n",
      "Predicted Language: Bengali\n",
      "Sentence: আজকের আবহাওয়া একেবারেই আনন্দদায়ক, গাছের পাতার মধ্যে দিয়ে একটি মৃদু, সতেজ বাতাস বইছে এবং সূর্য উজ্জ্বলভাবে আলোকিত হচ্ছে, যা বাইরের হাঁটার জন্য এটিকে নিখুঁত করে তুলেছে। পাখিরা মিষ্টি সুরে গান গাইছে এবং বাতাসে একটি মনোরম উষ্ণতা রয়েছে, যা সবাইকে প্রকৃতির সৌন্দর্য উপভোগ করার জন্য আমন্ত্রণ জানাচ্ছে। বাইরে থাকার জন্য এটি সত্যিই একটি চমৎকার দিন।\n",
      "\n",
      "Predicted Language: Spanish\n",
      "Sentence: El clima es absolutamente delicioso hoy, con una brisa suave y refrescante susurrando entre los árboles y el sol brillando intensamente, lo que lo hace perfecto para un paseo al aire libre. Los pájaros cantan dulcemente y hay una calidez agradable en el aire, invitando a todos a disfrutar de la belleza de la naturaleza. Es realmente un día espléndido para estar al aire libre.\n",
      "\n",
      "Predicted Language: German\n",
      "Sentence: Das Wetter ist heute absolut herrlich, mit einer sanften, erfrischenden Brise, die durch die Bäume rauscht, und der Sonne, die hell scheint, was es perfekt für einen Spaziergang im Freien macht. Die Vögel singen süßlich, und es liegt eine angenehme Wärme in der Luft, die jeden einlädt, die Schönheit der Natur zu genießen. Es ist wirklich ein prächtiger Tag, um draußen zu sein.\n",
      "\n",
      "Predicted Language: French\n",
      "Sentence: Le temps est absolument magnifique aujourd'hui, avec une brise douce et rafraîchissante qui frôle les arbres et le soleil qui brille de mille feux, ce qui en fait une journée parfaite pour une promenade en plein air. Les oiseaux chantent doucement et il y a une agréable chaleur dans l'air, invitant tout le monde à profiter de la beauté de la nature. C'est vraiment une journée splendide pour être dehors.\n",
      "\n",
      "Predicted Language: Portuguese\n",
      "Sentence: O tempo está absolutamente delicioso hoje, com uma brisa suave e refrescante sussurrando entre as árvores e o sol brilhando intensamente, tornando-o perfeito para um passeio ao ar livre. Os pássaros cantam docemente e há um calor agradável no ar, convidando a todos para desfrutar da beleza da natureza. É realmente um dia esplêndido para estar ao ar livre.\n",
      "\n"
     ]
    }
   ],
   "source": [
    "test_lines = [\n",
    "    \"The weather is absolutely delightful today, with a gentle, refreshing breeze rustling through the trees and the sun shining brightly, making it perfect for an outdoor stroll. The birds are singing sweetly, and there's a pleasant warmth in the air, inviting everyone to enjoy the beauty of nature. It's truly a splendid day to be outside.\",  # English\n",
    "    \"আজকের আবহাওয়া একেবারেই আনন্দদায়ক, গাছের পাতার মধ্যে দিয়ে একটি মৃদু, সতেজ বাতাস বইছে এবং সূর্য উজ্জ্বলভাবে আলোকিত হচ্ছে, যা বাইরের হাঁটার জন্য এটিকে নিখুঁত করে তুলেছে। পাখিরা মিষ্টি সুরে গান গাইছে এবং বাতাসে একটি মনোরম উষ্ণতা রয়েছে, যা সবাইকে প্রকৃতির সৌন্দর্য উপভোগ করার জন্য আমন্ত্রণ জানাচ্ছে। বাইরে থাকার জন্য এটি সত্যিই একটি চমৎকার দিন।\",  # Bengali\n",
    "    \"El clima es absolutamente delicioso hoy, con una brisa suave y refrescante susurrando entre los árboles y el sol brillando intensamente, lo que lo hace perfecto para un paseo al aire libre. Los pájaros cantan dulcemente y hay una calidez agradable en el aire, invitando a todos a disfrutar de la belleza de la naturaleza. Es realmente un día espléndido para estar al aire libre.\",  # Spanish\n",
    "    \"Das Wetter ist heute absolut herrlich, mit einer sanften, erfrischenden Brise, die durch die Bäume rauscht, und der Sonne, die hell scheint, was es perfekt für einen Spaziergang im Freien macht. Die Vögel singen süßlich, und es liegt eine angenehme Wärme in der Luft, die jeden einlädt, die Schönheit der Natur zu genießen. Es ist wirklich ein prächtiger Tag, um draußen zu sein.\",  # German\n",
    "    \"Le temps est absolument magnifique aujourd'hui, avec une brise douce et rafraîchissante qui frôle les arbres et le soleil qui brille de mille feux, ce qui en fait une journée parfaite pour une promenade en plein air. Les oiseaux chantent doucement et il y a une agréable chaleur dans l'air, invitant tout le monde à profiter de la beauté de la nature. C'est vraiment une journée splendide pour être dehors.\",  # French\n",
    "    \"O tempo está absolutamente delicioso hoje, com uma brisa suave e refrescante sussurrando entre as árvores e o sol brilhando intensamente, tornando-o perfeito para um passeio ao ar livre. Os pássaros cantam docemente e há um calor agradável no ar, convidando a todos para desfrutar da beleza da natureza. É realmente um dia esplêndido para estar ao ar livre.\"  # Portuguese\n",
    "]\n",
    "\n",
    "for line in test_lines:\n",
    "    label = model.predict(line)[0][0].replace(\"__label__\", \"\")\n",
    "    print(f\"Predicted Language: {label}\\nSentence: {line}\\n\")"
   ]
  }
 ],
 "metadata": {
  "kernelspec": {
   "display_name": "base",
   "language": "python",
   "name": "python3"
  },
  "language_info": {
   "codemirror_mode": {
    "name": "ipython",
    "version": 3
   },
   "file_extension": ".py",
   "mimetype": "text/x-python",
   "name": "python",
   "nbconvert_exporter": "python",
   "pygments_lexer": "ipython3",
   "version": "3.12.2"
  }
 },
 "nbformat": 4,
 "nbformat_minor": 5
}
